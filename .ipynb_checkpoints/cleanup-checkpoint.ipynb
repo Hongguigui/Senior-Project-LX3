{
 "cells": [
  {
   "cell_type": "code",
   "execution_count": null,
   "metadata": {
    "pycharm": {
     "is_executing": true
    }
   },
   "outputs": [
    {
     "name": "stdout",
     "output_type": "stream",
     "text": [
      "              X         Y         Z  timestamp\n",
      "0     -0.002909  0.003404 -0.001889   0.000000\n",
      "1     -0.002909  0.003404 -0.001889   0.000405\n",
      "2     -0.002911  0.003404 -0.001892   0.000722\n",
      "3     -0.002911  0.003404 -0.001892   0.001092\n",
      "4     -0.002911  0.003404 -0.001892   0.001599\n",
      "...         ...       ...       ...        ...\n",
      "35589 -0.001903 -0.004334  0.004271  12.037886\n",
      "35590 -0.005504 -0.002566  0.008198  12.038318\n",
      "35591 -0.005504 -0.002566  0.008198  12.038661\n",
      "35592 -0.005497 -0.002566  0.008181  12.039023\n",
      "35593 -0.006660 -0.002666  0.008897        NaN\n",
      "\n",
      "[35594 rows x 4 columns]\n",
      "[ 0.00000000e+00 -2.34168761e-09 -7.43931492e-09 ... -2.08166418e-02\n",
      " -2.08171725e-02             nan]\n",
      "[0.00000000e+00 2.74083348e-09 8.70680358e-09 ... 5.85541759e-01\n",
      " 5.85590998e-01            nan]\n",
      "[ 0.00000000e+00 -1.52089942e-09 -4.83219904e-09 ...  2.41233892e-03\n",
      "  2.41214767e-03             nan]\n"
     ]
    },
    {
     "data": {
      "text/plain": [
       "[<mpl_toolkits.mplot3d.art3d.Line3D at 0x1747013ae60>]"
      ]
     },
     "execution_count": 16,
     "metadata": {},
     "output_type": "execute_result"
    }
   ],
   "source": [
    "import numpy as np\n",
    "import pandas as pd\n",
    "import scipy\n",
    "import matplotlib.pyplot as plt\n",
    "from mpl_toolkits import mplot3d\n",
    "\n",
    "\n",
    "df = pd.read_csv('linear.txt',sep = \",\")\n",
    "df.columns = [\"X\",\"Y\",\"Z\"]\n",
    "df.dtypes\n",
    "\n",
    "df['X'] = df['X'].astype('string')\n",
    "df['Z'] = df['Z'].astype('string')\n",
    "df.dtypes\n",
    "# dfc = np.empty((len(df),1))\n",
    "dfx = df['X']\n",
    "dfz = df['Z']\n",
    "# print(dfs)\n",
    "\n",
    "for i in range(0,len(df)):\n",
    "    \n",
    "    dfx.iloc[i] = dfx.iloc[i].replace('(','')\n",
    "    dfz.iloc[i] = dfz.iloc[i].replace(')','')\n",
    "    # rows['X'][index] = re.sub(r'[()]', '', rows['X'][index])\n",
    "\n",
    "# print(dfx)\n",
    "# print(dfz)\n",
    "\n",
    "df['X'] = dfx\n",
    "df['Z'] = dfz\n",
    "df['X'] = df['X'].astype('float64')\n",
    "df['Z'] = df['Z'].astype('float64')\n",
    "# print(df)\n",
    "# df.dtypes\n",
    "\n",
    "of = open('Cleaned.csv','w',buffering=1)\n",
    "df.index.names = ['Index']\n",
    "df.to_csv(of)\n",
    "of.close()\n",
    "# print(dfc)\n",
    "\n",
    "dft = pd.read_csv(\"timestamp.txt\")\n",
    "\n",
    "# dft = dft / (10**9)\n",
    "\n",
    "tInit = dft.iloc[0]\n",
    "\n",
    "dft = dft - tInit\n",
    "dft.columns = ['timestamp']\n",
    "\n",
    "\n",
    "dfCleaned = pd.concat([df,dft], axis = 1)\n",
    "print(dfCleaned)\n",
    "# dfCleaned = dfCleaned.drop_duplicates(subset=['timestamp'])\n",
    "# print(dfCleaned)\n",
    "\n",
    "outF = open('CleanedNoDup.csv','w',buffering=1)\n",
    "dfCleaned.to_csv(outF)\n",
    "outF.close()\n",
    "\n",
    "g = 9.80665\n",
    "\n",
    "t = dfCleaned[\"timestamp\"].to_numpy()\n",
    "\n",
    "accelX = dfCleaned[\"X\"].to_numpy()\n",
    "accelY = dfCleaned[\"Y\"].to_numpy()\n",
    "accelZ = dfCleaned[\"Z\"].to_numpy()\n",
    "\n",
    "accelX = accelX * g\n",
    "accelY = accelY * g\n",
    "accelZ = accelZ * g\n",
    "\n",
    "initVelX = 0\n",
    "initVelY = 0\n",
    "initVelZ = 0\n",
    "\n",
    "initPosX = 0\n",
    "initPosY = 0\n",
    "initPosZ = 0\n",
    "\n",
    "velX = scipy.integrate.cumtrapz(accelX,t,initial=initVelX)\n",
    "posX = scipy.integrate.cumtrapz(velX,t,initial=initPosX)\n",
    "print(posX)\n",
    "\n",
    "velY = scipy.integrate.cumtrapz(accelY,t,initial=initVelY)\n",
    "posY = scipy.integrate.cumtrapz(velY,t,initial=initPosY)\n",
    "print(posY)\n",
    "\n",
    "velZ = scipy.integrate.cumtrapz(accelZ,t,initial=initVelZ)\n",
    "posZ = scipy.integrate.cumtrapz(velZ,t,initial=initPosZ)\n",
    "# posZ1 = scipy.integrate.simps(velZ,t)\n",
    "print(posZ)\n",
    "# print(posZ1)\n",
    "\n",
    "# plt.figure(0)\n",
    "# plt.plot(t,accelX)\n",
    "\n",
    "# plt.figure(1)\n",
    "# plt.plot(t,velX)\n",
    "\n",
    "# plt.figure(2)\n",
    "# plt.plot(t,posX)\n",
    "ax = plt.axes(projection='3d')\n",
    "zdata = posZ\n",
    "xdata = posX\n",
    "ydata = posY\n",
    "\n",
    "# ax.scatter3D(xdata, ydata, zdata, c=zdata, cmap='Greens')\n",
    "ax.plot3D(xdata, ydata, zdata, 'gray')\n"
   ]
  },
  {
   "cell_type": "code",
   "execution_count": null,
   "metadata": {
    "pycharm": {
     "is_executing": true
    }
   },
   "outputs": [],
   "source": []
  },
  {
   "cell_type": "code",
   "execution_count": null,
   "metadata": {
    "pycharm": {
     "is_executing": true
    }
   },
   "outputs": [],
   "source": []
  },
  {
   "cell_type": "code",
   "execution_count": null,
   "metadata": {},
   "outputs": [],
   "source": []
  },
  {
   "cell_type": "code",
   "execution_count": null,
   "metadata": {},
   "outputs": [],
   "source": []
  }
 ],
 "metadata": {
  "kernelspec": {
   "display_name": "Python 3 (ipykernel)",
   "language": "python",
   "name": "python3"
  },
  "language_info": {
   "codemirror_mode": {
    "name": "ipython",
    "version": 3
   },
   "file_extension": ".py",
   "mimetype": "text/x-python",
   "name": "python",
   "nbconvert_exporter": "python",
   "pygments_lexer": "ipython3",
   "version": "3.10.2"
  }
 },
 "nbformat": 4,
 "nbformat_minor": 1
}
